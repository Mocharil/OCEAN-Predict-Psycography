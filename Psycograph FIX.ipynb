{
 "cells": [
  {
   "cell_type": "code",
   "execution_count": 1,
   "metadata": {},
   "outputs": [],
   "source": [
    "import pandas as pd\n",
    "import gzip\n",
    "import ast\n",
    "import re,os\n",
    "import matplotlib.pyplot as plt\n",
    "from tqdm import tqdm\n",
    "import unicodedata\n",
    "import seaborn as sns\n",
    "import json, re\n",
    "import collections\n",
    "from collections import Counter\n",
    "from sklearn.ensemble import RandomForestRegressor, RandomForestClassifier\n",
    "# from data_prep import DataPrep\n",
    "from sklearn.feature_extraction.text import TfidfVectorizer\n",
    "from math import pi\n",
    "\n",
    "import pickle\n",
    "model= pickle.load(open('akurasi95%.sav','rb'))    "
   ]
  },
  {
   "cell_type": "code",
   "execution_count": 2,
   "metadata": {
    "collapsed": true
   },
   "outputs": [],
   "source": [
    "class Model():\n",
    "    def __init__(self):\n",
    "        self.rfr = RandomForestRegressor(bootstrap=True,\n",
    "         max_features='sqrt',\n",
    "         min_samples_leaf=1,\n",
    "         min_samples_split=2,\n",
    "         n_estimators= 200)\n",
    "        self.rfc = RandomForestClassifier(max_features='sqrt', n_estimators=110)\n",
    "        self.tfidf = TfidfVectorizer(stop_words='english', strip_accents='ascii')\n",
    "\n",
    "    def fit(self, X, y, regression=True):\n",
    "        X = self.tfidf.fit_transform(X)\n",
    "        if regression:\n",
    "            self.rfr = self.rfr.fit(X, y)\n",
    "        else:\n",
    "            self.rfc = self.rfc.fit(X, y)\n",
    "\n",
    "    def predict(self, X, regression=True):\n",
    "        X = self.tfidf.transform(X)\n",
    "        if regression:\n",
    "            return self.rfr.predict(X)\n",
    "        else:\n",
    "            return self.rfc.predict(X)\n",
    "\n",
    "    def predict_proba(self, X, regression=False):\n",
    "        X = self.tfidf.transform(X)\n",
    "        if regression:\n",
    "            raise ValueError('Cannot predict probabilites of a regression!')\n",
    "        else:\n",
    "            return self.rfc.predict_proba(X)"
   ]
  },
  {
   "cell_type": "code",
   "execution_count": 3,
   "metadata": {
    "collapsed": true
   },
   "outputs": [],
   "source": [
    "def predict_model(model_,model_personality,data_test):\n",
    "    for index, model in enumerate(model_):\n",
    "        x=model_personality[index].predict_proba(data_test['message'], regression=False)\n",
    "        data_test[model]=[i[1]*100 for i in list(x)]\n",
    "    return data_test"
   ]
  },
  {
   "cell_type": "code",
   "execution_count": 4,
   "metadata": {
    "collapsed": true
   },
   "outputs": [],
   "source": [
    "def posting_account(path):\n",
    "    if path[-1]!=\"\\\\\":\n",
    "        path=path+\"\\\\\"\n",
    "    for i in os.listdir(path):\n",
    "        if 'info' in i:\n",
    "            file_info=i\n",
    "        if 'posts' in i:\n",
    "            file_post=i\n",
    "\n",
    "    with open(path+file_info) as json_file:  \n",
    "        info_account = json.load(json_file)\n",
    "\n",
    "    page_account=[]\n",
    "    group_account=[]\n",
    "    user_id=info_account['user_id']\n",
    "    for i in info_account['likes']:\n",
    "        page_account.append({'user_id':user_id,'page_id':i['page_id'],'page_name':i['page_name']})\n",
    "    for i in info_account['groups']:\n",
    "        group_account.append({'user_id':user_id,'group_id':i['group_id'],'group_name':i['group_name']})\n",
    "\n",
    "    page=pd.DataFrame(page_account)\n",
    "    group=pd.DataFrame(group_account)\n",
    "    post_account = []\n",
    "    with open(path+file_post) as f:\n",
    "        for line in f:\n",
    "            post_account.append(json.loads(line))\n",
    "    #     print(\"total post :\",len(post_account))\n",
    "    post=[]\n",
    "    for i in post_account:\n",
    "        post.append({'account_id':i['user_id'],'message':i['text']})\n",
    "        username=i['user_full_name']\n",
    "\n",
    "    df_post=pd.DataFrame(post).dropna().reset_index()\n",
    "    try:\n",
    "        df_post=predict_model(model_,model_personality,df_post)\n",
    "    except:\n",
    "        print('gagal')\n",
    "    return df_post, user_id,username, page_account, group_account"
   ]
  },
  {
   "cell_type": "markdown",
   "metadata": {},
   "source": [
    "# ACCOUNT by post"
   ]
  },
  {
   "cell_type": "code",
   "execution_count": 5,
   "metadata": {
    "collapsed": true
   },
   "outputs": [],
   "source": [
    "def big5_personality(ops1,ops2,score):\n",
    "    if score>50:\n",
    "        a=ops2\n",
    "    else :\n",
    "        a=ops1\n",
    "    return a\n",
    "def result_by_post(df_post):\n",
    "    AGR=df_post['AGR'].mean()\n",
    "    CON=df_post['CON'].mean()\n",
    "    EXT=df_post['EXT'].mean()\n",
    "    NEU=df_post['NEU'].mean()\n",
    "    OPN=df_post['OPN'].mean()   \n",
    "    opn=big5_personality('Conservative and Traditional','Liberal and Artistic',OPN)\n",
    "    con=big5_personality('Impulsive and Spontaneous','Organized and Hard Working',CON)\n",
    "    ext=big5_personality('Contemplative','Engaged with outside world', EXT)\n",
    "    agr=big5_personality('Competitive','Team working and Trusting',AGR)\n",
    "    neu=big5_personality('Laid back and Relaxed','Easily Stressed and Emotional',NEU)\n",
    "    return opn,con,ext,agr,neu\n",
    "    \n"
   ]
  },
  {
   "cell_type": "markdown",
   "metadata": {},
   "source": [
    "# Tendency by page name and group name"
   ]
  },
  {
   "cell_type": "markdown",
   "metadata": {},
   "source": [
    "# visualisation"
   ]
  },
  {
   "cell_type": "code",
   "execution_count": 45,
   "metadata": {
    "collapsed": true
   },
   "outputs": [],
   "source": [
    "def spider(df_result, title, user_id,username,path):\n",
    "    col=['AGR','CON','EXT','NEU','OPN']\n",
    "    categories=list(df_result)[:5]\n",
    "    N = len(categories)\n",
    "\n",
    "    # We are going to plot the first line of the data frame.\n",
    "    # But we need to repeat the first value to close the circular graph:\n",
    "    values=df_result[col].values.flatten().tolist()\n",
    "    values += values[:1]\n",
    "    values\n",
    "\n",
    "    # What will be the angle of each axis in the plot? (we divide the plot / number of variable)\n",
    "    angles = [n / float(N) * 2 * pi for n in range(N)]\n",
    "    angles += angles[:1]\n",
    "\n",
    "    # Initialise the spider plot\n",
    "    ax = plt.subplot(111, polar=True)\n",
    "\n",
    "    # Draw one axe per variable + add labels labels yet\n",
    "    plt.xticks(angles[:-1], categories, color='blue', size=8)\n",
    "\n",
    "    # Draw ylabels\n",
    "    ax.set_rlabel_position(0)\n",
    "    ylim=sorted(values, reverse=True)[0]\n",
    "    plt.yticks([ylim/10,ylim/2,ylim], [str(int(ylim/10)),str(int(ylim/2)),str(int(ylim))], color=\"blue\", size=7)\n",
    "    plt.ylim(0,ylim+10)\n",
    "    plt.title(title, size=15,  y=1.1)\n",
    "\n",
    "    # Plot data\n",
    "    ax.plot(angles, values, linewidth=1, linestyle='solid')\n",
    "\n",
    "    # Fill area\n",
    "    ax.fill(angles, values, 'b', alpha=0.1)\n",
    "    plt.savefig(f\"{path}/{title}_{user_id}_{username}.png\")\n",
    "    plt.show()\n",
    "    \n",
    "def define_persen(kanan):\n",
    "    kanan=int(kanan)\n",
    "    if 100-kanan>=0:\n",
    "        kiri=100-kanan\n",
    "    else:\n",
    "        kiri=kanan\n",
    "        kanan= 100-kiri\n",
    "    return kiri,kanan\n",
    "\n",
    "def tornado(df_result, titles, user_id,username,path):\n",
    "    col=['AGR','CON','EXT','NEU','OPN']\n",
    "    kiri_label=['Conservative and Traditional',\n",
    "                'Impulsive and Spontaneous','Contemplative',\n",
    "                'Competitive','Laid back and Relaxed'][::-1]\n",
    "\n",
    "    kanan_label=['Liberal and Artistic','Organized and Hard Working',\n",
    "                 'Engaged with outside world','Team working and Trusting',\n",
    "                 'Easily Stressed and Emotional'][::-1]\n",
    "    \n",
    "    kiri=[]\n",
    "    kanan=[]\n",
    "    for index,i in enumerate(df_result[col].values[0]):\n",
    "        x=define_persen(i)\n",
    "        kiri.append(x[0])\n",
    "        kanan.append(x[1])\n",
    "\n",
    "    y=range(5)\n",
    "    fig, axes = plt.subplots(ncols=2, sharey=True)\n",
    "    axes[0].barh(y, kiri, align='center', color='red')\n",
    "    axes[1].barh(y, kanan, align='center', color='blue')\n",
    "\n",
    "    for i, (p, pr) in enumerate(zip(kiri_label, kiri)):\n",
    "\n",
    "        axes[0].text(s=p, x=pr+5, y=i, color=\"blue\", verticalalignment=\"center\", horizontalalignment=\"right\",size=10)\n",
    "\n",
    "        axes[0].text(s=str(pr)+\"%\", x=16, y=i, color=\"w\",\n",
    "                 verticalalignment=\"center\", horizontalalignment=\"left\", size=12)\n",
    "\n",
    "    for i, (p, pr) in enumerate(zip(kanan_label, kanan)):\n",
    "        axes[1].text(s=p, x=pr+5, y=i, color=\"red\", verticalalignment=\"center\", horizontalalignment=\"left\", size=10)\n",
    "\n",
    "        axes[1].text(s=str(pr)+\"%\", x=2, y=i, color=\"w\",\n",
    "                 verticalalignment=\"center\", horizontalalignment=\"left\", size=12)\n",
    "\n",
    "    axes[0].axis(\"off\")\n",
    "    axes[1].axis(\"off\")\n",
    "    axes[0].invert_xaxis()\n",
    "    plt.title(titles+'\\n', size=12,x=0,horizontalalignment=\"center\")\n",
    "    plt.savefig(f\"{path}/{titles}_{user_id}_{username}.png\")\n",
    "    plt.show()"
   ]
  },
  {
   "cell_type": "markdown",
   "metadata": {},
   "source": [
    "# model"
   ]
  },
  {
   "cell_type": "code",
   "execution_count": 9,
   "metadata": {
    "collapsed": true
   },
   "outputs": [],
   "source": [
    "model_personality=[None]*5\n",
    "path=\"E:\\\\belajar\\\\personality-prediction-from-text-master\\\\static\\\\\"\n",
    "list_model=[]\n",
    "model_=[]\n",
    "for i in os.listdir(path):\n",
    "    if '.pkl' in i:\n",
    "        list_model.append(path+i)\n",
    "        model_.append(i.replace('_model.pkl',''))\n",
    "        \n",
    "M=Model()\n",
    "for i in range(5):\n",
    "    with open(list_model[i], 'rb') as f:\n",
    "        model_personality[i]= pickle.load(f)\n",
    "        \n",
    " "
   ]
  },
  {
   "cell_type": "code",
   "execution_count": 10,
   "metadata": {
    "collapsed": true
   },
   "outputs": [],
   "source": [
    "list_file=[]\n",
    "for i in os.listdir(\"E:\\\\belajar\\\\Psycopath\\\\\"):\n",
    "    try:\n",
    "        int(i.split('_')[-1])\n",
    "        list_file.append(\"E:\\\\belajar\\\\Psycopath\\\\\"+i)\n",
    "    except:\n",
    "        pass"
   ]
  },
  {
   "cell_type": "code",
   "execution_count": 50,
   "metadata": {},
   "outputs": [],
   "source": [
    "def result_overall(path_file):\n",
    "    df_post,user_id,username,page_account,group_account=posting_account(path_file)\n",
    "    col=['AGR','CON','EXT','NEU','OPN']\n",
    "    page_acc=pd.DataFrame(page_account)\n",
    "    group_acc=pd.DataFrame(group_account)\n",
    "    page_=page_acc['page_name'].sum()\n",
    "    group_ =group_acc['group_name'].sum()  \n",
    "    tendency_group=model.predict([group_])[0]\n",
    "    tendency_page=model.predict([page_])[0]\n",
    "\n",
    "    index=0\n",
    "\n",
    "    acc_id=user_id\n",
    "    username=username\n",
    "    df_acc=df_post\n",
    "\n",
    "    if len(df_acc)==0:\n",
    "        df_acc.loc[len(df_acc),tuple(col)]=0\n",
    "\n",
    "    AGR=df_acc['AGR'].mean()\n",
    "    CON=df_acc['CON'].mean()\n",
    "    EXT=df_acc['EXT'].mean()\n",
    "    NEU=df_acc['NEU'].mean() \n",
    "    OPN=df_acc['OPN'].mean()\n",
    "\n",
    "    df_result=pd.DataFrame([{'account_id':acc_id,'username':username,'AGR':AGR, 'CON':CON, 'EXT':EXT,\n",
    "                      'NEU':NEU,'OPN':OPN,'tendency by groups':tendency_group,'tendency by pages':tendency_page}])\n",
    "    tornado(df_result,'Personality Description',user_id,username,path_file)\n",
    "    spider(df_result,'Big 5',user_id,username,path_file)\n",
    "    df_result.to_csv(f'{path_file}/Personality_{username}_{user_id}.csv')\n",
    "    return df_result"
   ]
  },
  {
   "cell_type": "code",
   "execution_count": 51,
   "metadata": {},
   "outputs": [
    {
     "name": "stderr",
     "output_type": "stream",
     "text": [
      "C:\\Users\\eBdesk\\Anaconda3\\lib\\site-packages\\sklearn\\feature_extraction\\text.py:1089: FutureWarning: Conversion of the second argument of issubdtype from `float` to `np.floating` is deprecated. In future, it will be treated as `np.float64 == np.dtype(float).type`.\n",
      "  if hasattr(X, 'dtype') and np.issubdtype(X.dtype, np.float):\n"
     ]
    },
    {
     "data": {
      "image/png": "[encoded data removed]",
      "text/plain": [
       "<matplotlib.figure.Figure at 0x1ffc95c5e48>"
      ]
     },
     "metadata": {},
     "output_type": "display_data"
    },
    {
     "data": {
      "image/png": "[encoded data removed]",
      "text/plain": [
       "<matplotlib.figure.Figure at 0x1ffc8b3f160>"
      ]
     },
     "metadata": {},
     "output_type": "display_data"
    },
    {
     "data": {
      "text/html": [
       "<div>\n",
       "<style>\n",
       "    .dataframe thead tr:only-child th {\n",
       "        text-align: right;\n",
       "    }\n",
       "\n",
       "    .dataframe thead th {\n",
       "        text-align: left;\n",
       "    }\n",
       "\n",
       "    .dataframe tbody tr th {\n",
       "        vertical-align: top;\n",
       "    }\n",
       "</style>\n",
       "<table border=\"1\" class=\"dataframe\">\n",
       "  <thead>\n",
       "    <tr style=\"text-align: right;\">\n",
       "      <th></th>\n",
       "      <th>AGR</th>\n",
       "      <th>CON</th>\n",
       "      <th>EXT</th>\n",
       "      <th>NEU</th>\n",
       "      <th>OPN</th>\n",
       "      <th>account_id</th>\n",
       "      <th>tendency by groups</th>\n",
       "      <th>tendency by pages</th>\n",
       "      <th>username</th>\n",
       "    </tr>\n",
       "  </thead>\n",
       "  <tbody>\n",
       "    <tr>\n",
       "      <th>0</th>\n",
       "      <td>42.850351</td>\n",
       "      <td>44.565253</td>\n",
       "      <td>37.112202</td>\n",
       "      <td>46.413979</td>\n",
       "      <td>67.788232</td>\n",
       "      <td>100001711422548</td>\n",
       "      <td>prabowo</td>\n",
       "      <td>prabowo</td>\n",
       "      <td>Aisyah Binti Abdullah</td>\n",
       "    </tr>\n",
       "  </tbody>\n",
       "</table>\n",
       "</div>"
      ],
      "text/plain": [
       "         AGR        CON        EXT        NEU        OPN       account_id  \\\n",
       "0  42.850351  44.565253  37.112202  46.413979  67.788232  100001711422548   \n",
       "\n",
       "  tendency by groups tendency by pages               username  \n",
       "0  prabowo            prabowo           Aisyah Binti Abdullah  "
      ]
     },
     "execution_count": 51,
     "metadata": {},
     "output_type": "execute_result"
    }
   ],
   "source": [
    "result_overall(list_file[0])"
   ]
  },
  {
   "cell_type": "code",
   "execution_count": null,
   "metadata": {},
   "outputs": [],
   "source": []
  },
  {
   "cell_type": "code",
   "execution_count": 4,
   "metadata": {},
   "outputs": [
    {
     "name": "stderr",
     "output_type": "stream",
     "text": [
      "Using TensorFlow backend.\n"
     ]
    }
   ],
   "source": [
    "from OCEAN import model as modol\n",
    "from OCEAN import preprocessor\n"
   ]
  },
  {
   "cell_type": "code",
   "execution_count": 29,
   "metadata": {},
   "outputs": [],
   "source": [
    "msg=preprocessor.preprocess(  [\"selamat datang\",'welcome to the rumah','read bone']  )\n",
    "result=modol.predict(   [msg]   )"
   ]
  },
  {
   "cell_type": "code",
   "execution_count": 49,
   "metadata": {},
   "outputs": [],
   "source": [
    "import time\n",
    "report = {\n",
    "    'data': x,\n",
    "    'status': True,\n",
    "    'timestamp': int(time.time()*1000)\n",
    "}"
   ]
  },
  {
   "cell_type": "code",
   "execution_count": 70,
   "metadata": {},
   "outputs": [],
   "source": [
    "    x={'OPN':result['OPN'].mean(),'CON':result['CON'].mean(),\n",
    "       'EXT':result['EXT'].mean(),'AGR':result['AGR'].mean(),\n",
    "       'NEU':result['NEU'].mean()}"
   ]
  },
  {
   "cell_type": "code",
   "execution_count": 69,
   "metadata": {},
   "outputs": [
    {
     "data": {
      "text/plain": [
       "array([0.43323445, 0.4391827 , 0.17094535], dtype=float32)"
      ]
     },
     "execution_count": 69,
     "metadata": {},
     "output_type": "execute_result"
    }
   ],
   "source": [
    "import pandas as pd\n",
    "result['CON'].mean(axis=1)"
   ]
  },
  {
   "cell_type": "code",
   "execution_count": 74,
   "metadata": {},
   "outputs": [
    {
     "data": {
      "text/plain": [
       "numpy.float32"
      ]
     },
     "execution_count": 74,
     "metadata": {},
     "output_type": "execute_result"
    }
   ],
   "source": [
    "type(x['OPN'])"
   ]
  },
  {
   "cell_type": "code",
   "execution_count": 76,
   "metadata": {},
   "outputs": [
    {
     "data": {
      "text/plain": [
       "float"
      ]
     },
     "execution_count": 76,
     "metadata": {},
     "output_type": "execute_result"
    }
   ],
   "source": [
    "type(float(x['OPN']))"
   ]
  },
  {
   "cell_type": "code",
   "execution_count": 43,
   "metadata": {},
   "outputs": [
    {
     "name": "stdout",
     "output_type": "stream",
     "text": [
      "0.705597996711731\n",
      "0.6711646318435669\n",
      "0.7659791111946106\n"
     ]
    }
   ],
   "source": [
    "for i in c:\n",
    "    print(i[0])\n",
    "opn="
   ]
  },
  {
   "cell_type": "code",
   "execution_count": 81,
   "metadata": {
    "scrolled": true
   },
   "outputs": [],
   "source": [
    "import requests\n",
    "x={\"text\":[\"selamat datang LOLIII\",\"wonderfull\",\"selamat tahunbaru\",\"hari senin\"]}\n",
    "\n",
    "url = 'http://192.168.99.105:2121/ocean_predict'\n",
    "resp = requests.post(url=url, json=x)\n",
    "data = resp.json()"
   ]
  },
  {
   "cell_type": "code",
   "execution_count": 82,
   "metadata": {},
   "outputs": [
    {
     "data": {
      "text/plain": [
       "{'data': {'AGR': 0.6084310412406921,\n",
       "  'CON': 0.43118801712989807,\n",
       "  'EXT': 0.40412309765815735,\n",
       "  'NEU': 0.3201684057712555,\n",
       "  'OPN': 0.7223601937294006},\n",
       " 'status': True,\n",
       " 'timestamp': 1551326956115}"
      ]
     },
     "execution_count": 82,
     "metadata": {},
     "output_type": "execute_result"
    }
   ],
   "source": [
    "data"
   ]
  },
  {
   "cell_type": "code",
   "execution_count": null,
   "metadata": {},
   "outputs": [],
   "source": []
  }
 ],
 "metadata": {
  "kernelspec": {
   "display_name": "Python 3",
   "language": "python",
   "name": "python3"
  },
  "language_info": {
   "codemirror_mode": {
    "name": "ipython",
    "version": 3
   },
   "file_extension": ".py",
   "mimetype": "text/x-python",
   "name": "python",
   "nbconvert_exporter": "python",
   "pygments_lexer": "ipython3",
   "version": "3.6.5"
  }
 },
 "nbformat": 4,
 "nbformat_minor": 2
}
